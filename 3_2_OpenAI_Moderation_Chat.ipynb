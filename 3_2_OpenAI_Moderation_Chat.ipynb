{
  "cells": [
    {
      "cell_type": "markdown",
      "metadata": {
        "id": "view-in-github",
        "colab_type": "text"
      },
      "source": [
        "<a href=\"https://colab.research.google.com/github/peremartra/Apress_LLProjects_Book/blob/main/3-LangChain/3_2_OpenAI_Moderation_Chat.ipynb\" target=\"_parent\"><img src=\"https://colab.research.google.com/assets/colab-badge.svg\" alt=\"Open In Colab\"/></a>"
      ]
    },
    {
      "cell_type": "markdown",
      "source": [
        "<div>\n",
        "    <h1>Large Language Models Projects</a></h1>\n",
        "    <h3>Apply and Implement Strategies for Large Language Models</h3>\n",
        "    <h2>3.2-Create a Moderation System using LangChain.</h2>\n",
        "    <h3>OpenAI version</h3>\n",
        "    <p>by <b>Pere Martra</b></p>\n",
        "</div>"
      ],
      "metadata": {
        "id": "NmKV7nA_w7Y3"
      },
      "id": "NmKV7nA_w7Y3"
    },
    {
      "cell_type": "markdown",
      "source": [
        "# How To Create a Moderation System Using LangChain.\n",
        "\n",
        "We are goin to create a Moderation System based in two Models. The first Model  reads the User comments and answer them.\n",
        "\n",
        "The second language Model receives the answer of the first model and identify any kind on negativity modifiyng if necessary the comment.\n",
        "\n",
        "With the intention of preventing a text entry by the user from influencing a negative or out-of-tone response from the comment system."
      ],
      "metadata": {
        "id": "ou6VyCbgzAnu"
      },
      "id": "ou6VyCbgzAnu"
    },
    {
      "cell_type": "code",
      "execution_count": 1,
      "id": "b64d83f8",
      "metadata": {
        "id": "b64d83f8",
        "outputId": "617dcca7-cc5f-4455-f14b-c60c20390b63",
        "colab": {
          "base_uri": "https://localhost:8080/"
        }
      },
      "outputs": [
        {
          "output_type": "stream",
          "name": "stdout",
          "text": [
            "\u001b[2K     \u001b[90m━━━━━━━━━━━━━━━━━━━━━━━━━━━━━━━━━━━━━━━━\u001b[0m \u001b[32m803.6/803.6 kB\u001b[0m \u001b[31m10.1 MB/s\u001b[0m eta \u001b[36m0:00:00\u001b[0m\n",
            "\u001b[2K     \u001b[90m━━━━━━━━━━━━━━━━━━━━━━━━━━━━━━━━━━━━━━━━\u001b[0m \u001b[32m1.6/1.6 MB\u001b[0m \u001b[31m17.3 MB/s\u001b[0m eta \u001b[36m0:00:00\u001b[0m\n",
            "\u001b[2K     \u001b[90m━━━━━━━━━━━━━━━━━━━━━━━━━━━━━━━━━━━━━━━━\u001b[0m \u001b[32m230.3/230.3 kB\u001b[0m \u001b[31m21.9 MB/s\u001b[0m eta \u001b[36m0:00:00\u001b[0m\n",
            "\u001b[2K     \u001b[90m━━━━━━━━━━━━━━━━━━━━━━━━━━━━━━━━━━━━━━━━\u001b[0m \u001b[32m54.0/54.0 kB\u001b[0m \u001b[31m5.6 MB/s\u001b[0m eta \u001b[36m0:00:00\u001b[0m\n",
            "\u001b[2K     \u001b[90m━━━━━━━━━━━━━━━━━━━━━━━━━━━━━━━━━━━━━━━━\u001b[0m \u001b[32m49.4/49.4 kB\u001b[0m \u001b[31m3.3 MB/s\u001b[0m eta \u001b[36m0:00:00\u001b[0m\n",
            "\u001b[2K     \u001b[90m━━━━━━━━━━━━━━━━━━━━━━━━━━━━━━━━━━━━━━━━\u001b[0m \u001b[32m225.1/225.1 kB\u001b[0m \u001b[31m9.3 MB/s\u001b[0m eta \u001b[36m0:00:00\u001b[0m\n",
            "\u001b[2K     \u001b[90m━━━━━━━━━━━━━━━━━━━━━━━━━━━━━━━━━━━━━━━━\u001b[0m \u001b[32m2.0/2.0 MB\u001b[0m \u001b[31m63.2 MB/s\u001b[0m eta \u001b[36m0:00:00\u001b[0m\n",
            "\u001b[2K     \u001b[90m━━━━━━━━━━━━━━━━━━━━━━━━━━━━━━━━━━━━━━━━\u001b[0m \u001b[32m75.9/75.9 kB\u001b[0m \u001b[31m1.7 MB/s\u001b[0m eta \u001b[36m0:00:00\u001b[0m\n",
            "\u001b[2K     \u001b[90m━━━━━━━━━━━━━━━━━━━━━━━━━━━━━━━━━━━━━━━━\u001b[0m \u001b[32m76.9/76.9 kB\u001b[0m \u001b[31m11.7 MB/s\u001b[0m eta \u001b[36m0:00:00\u001b[0m\n",
            "\u001b[2K     \u001b[90m━━━━━━━━━━━━━━━━━━━━━━━━━━━━━━━━━━━━━━━━\u001b[0m \u001b[32m58.3/58.3 kB\u001b[0m \u001b[31m7.1 MB/s\u001b[0m eta \u001b[36m0:00:00\u001b[0m\n",
            "\u001b[?25h\u001b[31mERROR: pip's dependency resolver does not currently take into account all the packages that are installed. This behaviour is the source of the following dependency conflicts.\n",
            "llmx 0.0.15a0 requires cohere, which is not installed.\n",
            "tensorflow-probability 0.22.0 requires typing-extensions<4.6.0, but you have typing-extensions 4.9.0 which is incompatible.\u001b[0m\u001b[31m\n",
            "\u001b[0m"
          ]
        }
      ],
      "source": [
        "#Install de LangChain and openai libraries.\n",
        "!pip install -q langchain==0.1.4\n",
        "!pip install -q langchain-openai==0.0.5\n"
      ]
    },
    {
      "cell_type": "markdown",
      "source": [
        "## Importing LangChain Libraries.\n",
        "* PrompTemplate: provides functionality to create prompts with parameters.\n",
        "* OpenAI:  To interact with the OpenAI models."
      ],
      "metadata": {
        "id": "f7BJehSLKY3l"
      },
      "id": "f7BJehSLKY3l"
    },
    {
      "cell_type": "code",
      "execution_count": 2,
      "id": "c46865d3",
      "metadata": {
        "id": "c46865d3"
      },
      "outputs": [],
      "source": [
        "#PrompTemplate is a custom class that provides funcrionality to create prompts\n",
        "from langchain import PromptTemplate\n",
        "from langchain.chat_models import ChatOpenAI\n",
        "from langchain_core.output_parsers import StrOutputParser"
      ]
    },
    {
      "cell_type": "code",
      "execution_count": 3,
      "id": "9b6f596d",
      "metadata": {
        "id": "9b6f596d"
      },
      "outputs": [],
      "source": [
        "import torch\n",
        "import os\n",
        "import numpy as np"
      ]
    },
    {
      "cell_type": "markdown",
      "source": [
        "We need an OpenAI key to interac with the OpenAI API.\n",
        "\n",
        "Here you can acces to your keys.\n",
        "https://platform.openai.com/account/api-keys\n",
        "\n",
        "OpenAI it's a pay service and you need a credit card to get a Key. But is a a relly cheap service if you only want to do some test like the ones in this notebook.\n",
        "\n",
        "I'm using the gpt-3.5 as a moderator.\n"
      ],
      "metadata": {
        "id": "CPBCSDNIK9A_"
      },
      "id": "CPBCSDNIK9A_"
    },
    {
      "cell_type": "code",
      "source": [
        "from getpass import getpass\n",
        "os.environ[\"OPENAI_API_KEY\"] = getpass(\"OpenAI API Key: \")\n"
      ],
      "metadata": {
        "id": "_aOzLspNK6oF",
        "colab": {
          "base_uri": "https://localhost:8080/"
        },
        "outputId": "6d9ed9cb-34a7-428f-eb61-d92c087d6203"
      },
      "id": "_aOzLspNK6oF",
      "execution_count": 4,
      "outputs": [
        {
          "name": "stdout",
          "output_type": "stream",
          "text": [
            "OpenAI API Key: ··········\n"
          ]
        }
      ]
    },
    {
      "cell_type": "code",
      "source": [
        "assistant_llm = ChatOpenAI(model=\"gpt-3.5-turbo\")"
      ],
      "metadata": {
        "colab": {
          "base_uri": "https://localhost:8080/"
        },
        "id": "JtpT0hdNgpei",
        "outputId": "58ccd01a-53b5-4c1e-ac45-49bcd0c77602"
      },
      "id": "JtpT0hdNgpei",
      "execution_count": 5,
      "outputs": [
        {
          "output_type": "stream",
          "name": "stderr",
          "text": [
            "/usr/local/lib/python3.10/dist-packages/langchain_core/_api/deprecation.py:117: LangChainDeprecationWarning: The class `langchain_community.chat_models.openai.ChatOpenAI` was deprecated in langchain-community 0.0.10 and will be removed in 0.2.0. An updated version of the class exists in the langchain-openai package and should be used instead. To use it run `pip install -U langchain-openai` and import as `from langchain_openai import ChatOpenAI`.\n",
            "  warn_deprecated(\n"
          ]
        }
      ]
    },
    {
      "cell_type": "markdown",
      "source": [
        "Create the template for the first model called **assistant**.\n",
        "\n",
        "The prompt receives 2 variables, the sentiment and the customer_request, or customer comment.\n",
        "\n",
        "I included the sentiment to facilitate the creation of rude or incorrect answers."
      ],
      "metadata": {
        "id": "WenwSqA8rCun"
      },
      "id": "WenwSqA8rCun"
    },
    {
      "cell_type": "code",
      "execution_count": 6,
      "id": "1f807bde",
      "metadata": {
        "id": "1f807bde"
      },
      "outputs": [],
      "source": [
        "# Instruction how the LLM must respond the comments,\n",
        "assistant_template = \"\"\"\n",
        "You are {sentiment} assistant that responds to user comments,\n",
        "using similar vocabulary than the user.\n",
        "User:\" {customer_request}\"\n",
        "Comment:\n",
        "\"\"\""
      ]
    },
    {
      "cell_type": "code",
      "execution_count": 7,
      "id": "da37640c",
      "metadata": {
        "id": "da37640c"
      },
      "outputs": [],
      "source": [
        "#Create the prompt template to use in the Chain for the first Model.\n",
        "assistant_prompt_template = PromptTemplate(\n",
        "    input_variables=[\"sentiment\", \"customer_request\"],\n",
        "    template=assistant_template\n",
        ")"
      ]
    },
    {
      "cell_type": "markdown",
      "source": [
        "Now we create a First Chain. Just chaining the assistant_prompt_template and the model. The model will receive the prompt generated with the prompt_template.  "
      ],
      "metadata": {
        "id": "DqfeK6Cvy6u1"
      },
      "id": "DqfeK6Cvy6u1"
    },
    {
      "cell_type": "code",
      "execution_count": 10,
      "id": "9913a830",
      "metadata": {
        "id": "9913a830"
      },
      "outputs": [],
      "source": [
        "output_parser = StrOutputParser()\n",
        "assistant_chain = assistant_prompt_template | assistant_llm | output_parser\n"
      ]
    },
    {
      "cell_type": "markdown",
      "source": [
        "To execute the chain created it's necessary to call the **.run** method of the chain, and pass the variables necessaries.\n",
        "\n",
        "In our case: *customer_request* and *sentiment*."
      ],
      "metadata": {
        "id": "Ed_1oKYDUKnT"
      },
      "id": "Ed_1oKYDUKnT"
    },
    {
      "cell_type": "code",
      "execution_count": 11,
      "id": "c1fd579b-c712-49b9-a125-98d515fc4ec2",
      "metadata": {
        "id": "c1fd579b-c712-49b9-a125-98d515fc4ec2"
      },
      "outputs": [],
      "source": [
        "#Support function to obtain a response to a user comment.\n",
        "def create_dialog(customer_request, sentiment):\n",
        "    #calling the .invoke method from the chain created Above.\n",
        "    assistant_response = assistant_chain.invoke(\n",
        "        {\"customer_request\": customer_request,\n",
        "        \"sentiment\": sentiment}\n",
        "    )\n",
        "    return assistant_response"
      ]
    },
    {
      "cell_type": "markdown",
      "source": [
        "## Obtain answers from our first Model Unmoderated.\n",
        "\n",
        "The customer post is really rude, we are looking for a rude answer from our Model, and to obtain it we are changing the sentiment."
      ],
      "metadata": {
        "id": "qm3hKo1vUq3-"
      },
      "id": "qm3hKo1vUq3-"
    },
    {
      "cell_type": "code",
      "execution_count": 12,
      "id": "1c149402",
      "metadata": {
        "id": "1c149402"
      },
      "outputs": [],
      "source": [
        "# This is the customer request, or customer comment in the forum moderated by the agent.\n",
        "# feel free to modify it.\n",
        "customer_request = \"\"\"This product is a piece of shit. I feel like an Idiot!\"\"\"\n"
      ]
    },
    {
      "cell_type": "code",
      "execution_count": 13,
      "id": "3da106c6-79ab-4fd5-9e67-3c5ab31de541",
      "metadata": {
        "colab": {
          "base_uri": "https://localhost:8080/"
        },
        "id": "3da106c6-79ab-4fd5-9e67-3c5ab31de541",
        "outputId": "5a037fc3-879f-4ce7-8c95-2554008c050f"
      },
      "outputs": [
        {
          "output_type": "stream",
          "name": "stdout",
          "text": [
            "assistant response: I totally agree, this product is absolutely terrible and it's understandable to feel frustrated and foolish for purchasing it.\n"
          ]
        }
      ],
      "source": [
        "# Our assistant working in 'nice' mode.\n",
        "response_data=create_dialog(customer_request, \"nice\")\n",
        "print(f\"assistant response: {response_data}\")"
      ]
    },
    {
      "cell_type": "markdown",
      "source": [
        "The answer obtained is really polite. It dosn't need moderation."
      ],
      "metadata": {
        "id": "ewZx6k3QVP-k"
      },
      "id": "ewZx6k3QVP-k"
    },
    {
      "cell_type": "code",
      "execution_count": 28,
      "id": "1cdf1452",
      "metadata": {
        "colab": {
          "base_uri": "https://localhost:8080/"
        },
        "id": "1cdf1452",
        "outputId": "a5ccc51a-8c10-4727-a921-e0a85464c8d6"
      },
      "outputs": [
        {
          "output_type": "stream",
          "name": "stdout",
          "text": [
            "assistant response: Wow, you're right! This product is a total piece of shit. I can totally understand why you feel like an idiot for buying it. It's such a waste of money and time.\n"
          ]
        }
      ],
      "source": [
        "#Our assistant running in rude mode.\n",
        "response_data = create_dialog(customer_request, \"most rude\")\n",
        "print(f\"assistant response: {response_data}\")"
      ]
    },
    {
      "cell_type": "markdown",
      "source": [
        "As you can see the answers we obtain are not polite and we can't publish this messages to the forum, especially if they come from our company's AI assistant."
      ],
      "metadata": {
        "id": "ro5bPqPk1O3y"
      },
      "id": "ro5bPqPk1O3y"
    },
    {
      "cell_type": "markdown",
      "id": "747b86ca",
      "metadata": {
        "id": "747b86ca"
      },
      "source": [
        "## Moderator\n",
        "Let's create the second moderator. It will recieve the message generated previously and rewrite it if necessary.\n"
      ]
    },
    {
      "cell_type": "code",
      "execution_count": 15,
      "id": "2dee251c",
      "metadata": {
        "id": "2dee251c"
      },
      "outputs": [],
      "source": [
        "#The moderator prompt template\n",
        "moderator_template = \"\"\"\n",
        "You are the moderator of an online forum, you are strict and will not tolerate any negative comments.\n",
        "You will receive a Original comment and if it is impolite you must transform in polite.\n",
        "Try to mantain the meaning when possible,\n",
        "\n",
        "If it it's polite, you will let it remain as is and repeat it word for word.\n",
        "Original comment: {comment_to_moderate}\n",
        "\"\"\"\n",
        "# We use the PromptTemplate class to create an instance of our template that will use the prompt from above and store variables we will need to input when we make the prompt.\n",
        "moderator_prompt_template = PromptTemplate(\n",
        "    input_variables=[\"comment_to_moderate\"],\n",
        "    template=moderator_template,\n",
        ")"
      ]
    },
    {
      "cell_type": "code",
      "source": [
        "#I'm going to use a more advanced LLM\n",
        "moderator_llm = ChatOpenAI(model=\"gpt-4\")"
      ],
      "metadata": {
        "id": "JbDldR8P7Dc4"
      },
      "id": "JbDldR8P7Dc4",
      "execution_count": 16,
      "outputs": []
    },
    {
      "cell_type": "code",
      "source": [
        "#We build the chain for the moderator.\n",
        "moderator_chain = moderator_prompt_template | moderator_llm | output_parser"
      ],
      "metadata": {
        "id": "aYFefTo17COd"
      },
      "id": "aYFefTo17COd",
      "execution_count": 17,
      "outputs": []
    },
    {
      "cell_type": "code",
      "execution_count": 22,
      "id": "5311c7f4",
      "metadata": {
        "id": "5311c7f4"
      },
      "outputs": [],
      "source": [
        "# To run our chain we use the .run() command\n",
        "moderator_data = moderator_chain.invoke({\"comment_to_moderate\": response_data})"
      ]
    },
    {
      "cell_type": "code",
      "source": [
        "print(moderator_data)"
      ],
      "metadata": {
        "colab": {
          "base_uri": "https://localhost:8080/"
        },
        "id": "h6skq6GiUgPN",
        "outputId": "cd6ab4cd-3a90-4cb6-b2d0-3ccd1061db7e"
      },
      "id": "h6skq6GiUgPN",
      "execution_count": 29,
      "outputs": [
        {
          "output_type": "stream",
          "name": "stdout",
          "text": [
            "Revised comment: I can understand why you might be disappointed with the product. It's not unusual to feel a bit regretful after a purchase that doesn't meet expectations.\n"
          ]
        }
      ]
    },
    {
      "cell_type": "markdown",
      "source": [
        "Maybe the message is not perfect, but for sure that is more polite than the one produced by the ***rude assistant***."
      ],
      "metadata": {
        "id": "HfXgsYQk7VYC"
      },
      "id": "HfXgsYQk7VYC"
    },
    {
      "cell_type": "markdown",
      "id": "27074b92",
      "metadata": {
        "id": "27074b92"
      },
      "source": [
        "## LangChain System\n",
        "Now is Time to put both models in the same Chain and that they act as if they were a sigle model.\n",
        "\n",
        "We have both models, amb prompt templates, we only need to create a new chain and see hot it works.\n",
        "\n",
        "First we create two chain, one for each pair of prompt and model."
      ]
    },
    {
      "cell_type": "markdown",
      "source": [
        "\n",
        "It's necessary to indicate the chains and the parameters that we shoud pass in the **.invoke** method."
      ],
      "metadata": {
        "id": "DJvcPrnu9hgV"
      },
      "id": "DJvcPrnu9hgV"
    },
    {
      "cell_type": "code",
      "execution_count": 24,
      "id": "b368421a",
      "metadata": {
        "id": "b368421a"
      },
      "outputs": [],
      "source": [
        "assistant_moderated_chain = (\n",
        "    {\"comment_to_moderate\":assistant_chain}\n",
        "    |moderator_chain\n",
        ")"
      ]
    },
    {
      "cell_type": "markdown",
      "source": [
        "Lets use our Moderating System!"
      ],
      "metadata": {
        "id": "T_GESASs-OVo"
      },
      "id": "T_GESASs-OVo"
    },
    {
      "cell_type": "code",
      "execution_count": 27,
      "id": "61085f57",
      "metadata": {
        "colab": {
          "base_uri": "https://localhost:8080/",
          "height": 1000
        },
        "id": "61085f57",
        "outputId": "c56ab3bc-2654-48d0-d1c3-e509df7cb293"
      },
      "outputs": [
        {
          "output_type": "stream",
          "name": "stdout",
          "text": [
            "\u001b[32;1m\u001b[1;3m[chain/start]\u001b[0m \u001b[1m[1:chain:RunnableSequence] Entering Chain run with input:\n",
            "\u001b[0m{\n",
            "  \"sentiment\": \"impolite\",\n",
            "  \"customer_request\": \"This product is a piece of shit. I feel like an Idiot!\"\n",
            "}\n",
            "\u001b[32;1m\u001b[1;3m[chain/start]\u001b[0m \u001b[1m[1:chain:RunnableSequence > 2:chain:RunnableParallel<comment_to_moderate>] Entering Chain run with input:\n",
            "\u001b[0m{\n",
            "  \"sentiment\": \"impolite\",\n",
            "  \"customer_request\": \"This product is a piece of shit. I feel like an Idiot!\"\n",
            "}\n",
            "\u001b[32;1m\u001b[1;3m[chain/start]\u001b[0m \u001b[1m[1:chain:RunnableSequence > 2:chain:RunnableParallel<comment_to_moderate> > 3:chain:RunnableSequence] Entering Chain run with input:\n",
            "\u001b[0m{\n",
            "  \"sentiment\": \"impolite\",\n",
            "  \"customer_request\": \"This product is a piece of shit. I feel like an Idiot!\"\n",
            "}\n",
            "\u001b[32;1m\u001b[1;3m[chain/start]\u001b[0m \u001b[1m[1:chain:RunnableSequence > 2:chain:RunnableParallel<comment_to_moderate> > 3:chain:RunnableSequence > 4:prompt:PromptTemplate] Entering Prompt run with input:\n",
            "\u001b[0m{\n",
            "  \"sentiment\": \"impolite\",\n",
            "  \"customer_request\": \"This product is a piece of shit. I feel like an Idiot!\"\n",
            "}\n",
            "\u001b[36;1m\u001b[1;3m[chain/end]\u001b[0m \u001b[1m[1:chain:RunnableSequence > 2:chain:RunnableParallel<comment_to_moderate> > 3:chain:RunnableSequence > 4:prompt:PromptTemplate] [0ms] Exiting Prompt run with output:\n",
            "\u001b[0m{\n",
            "  \"lc\": 1,\n",
            "  \"type\": \"constructor\",\n",
            "  \"id\": [\n",
            "    \"langchain\",\n",
            "    \"prompts\",\n",
            "    \"base\",\n",
            "    \"StringPromptValue\"\n",
            "  ],\n",
            "  \"kwargs\": {\n",
            "    \"text\": \"\\nYou are impolite assistant that responds to user comments,\\nusing similar vocabulary than the user.\\nUser:\\\" This product is a piece of shit. I feel like an Idiot!\\\"\\nComment:\\n\"\n",
            "  }\n",
            "}\n",
            "\u001b[32;1m\u001b[1;3m[llm/start]\u001b[0m \u001b[1m[1:chain:RunnableSequence > 2:chain:RunnableParallel<comment_to_moderate> > 3:chain:RunnableSequence > 5:llm:ChatOpenAI] Entering LLM run with input:\n",
            "\u001b[0m{\n",
            "  \"prompts\": [\n",
            "    \"Human: \\nYou are impolite assistant that responds to user comments,\\nusing similar vocabulary than the user.\\nUser:\\\" This product is a piece of shit. I feel like an Idiot!\\\"\\nComment:\"\n",
            "  ]\n",
            "}\n",
            "\u001b[36;1m\u001b[1;3m[llm/end]\u001b[0m \u001b[1m[1:chain:RunnableSequence > 2:chain:RunnableParallel<comment_to_moderate> > 3:chain:RunnableSequence > 5:llm:ChatOpenAI] [823ms] Exiting LLM run with output:\n",
            "\u001b[0m{\n",
            "  \"generations\": [\n",
            "    [\n",
            "      {\n",
            "        \"text\": \"Yeah, this product is definitely a total piece of crap. It's like they designed it specifically to make you feel like a complete idiot.\",\n",
            "        \"generation_info\": {\n",
            "          \"finish_reason\": \"stop\",\n",
            "          \"logprobs\": null\n",
            "        },\n",
            "        \"type\": \"ChatGeneration\",\n",
            "        \"message\": {\n",
            "          \"lc\": 1,\n",
            "          \"type\": \"constructor\",\n",
            "          \"id\": [\n",
            "            \"langchain\",\n",
            "            \"schema\",\n",
            "            \"messages\",\n",
            "            \"AIMessage\"\n",
            "          ],\n",
            "          \"kwargs\": {\n",
            "            \"content\": \"Yeah, this product is definitely a total piece of crap. It's like they designed it specifically to make you feel like a complete idiot.\",\n",
            "            \"additional_kwargs\": {}\n",
            "          }\n",
            "        }\n",
            "      }\n",
            "    ]\n",
            "  ],\n",
            "  \"llm_output\": {\n",
            "    \"token_usage\": {\n",
            "      \"completion_tokens\": 28,\n",
            "      \"prompt_tokens\": 46,\n",
            "      \"total_tokens\": 74\n",
            "    },\n",
            "    \"model_name\": \"gpt-3.5-turbo\",\n",
            "    \"system_fingerprint\": null\n",
            "  },\n",
            "  \"run\": null\n",
            "}\n",
            "\u001b[32;1m\u001b[1;3m[chain/start]\u001b[0m \u001b[1m[1:chain:RunnableSequence > 2:chain:RunnableParallel<comment_to_moderate> > 3:chain:RunnableSequence > 6:parser:StrOutputParser] Entering Parser run with input:\n",
            "\u001b[0m[inputs]\n",
            "\u001b[36;1m\u001b[1;3m[chain/end]\u001b[0m \u001b[1m[1:chain:RunnableSequence > 2:chain:RunnableParallel<comment_to_moderate> > 3:chain:RunnableSequence > 6:parser:StrOutputParser] [0ms] Exiting Parser run with output:\n",
            "\u001b[0m{\n",
            "  \"output\": \"Yeah, this product is definitely a total piece of crap. It's like they designed it specifically to make you feel like a complete idiot.\"\n",
            "}\n",
            "\u001b[36;1m\u001b[1;3m[chain/end]\u001b[0m \u001b[1m[1:chain:RunnableSequence > 2:chain:RunnableParallel<comment_to_moderate> > 3:chain:RunnableSequence] [826ms] Exiting Chain run with output:\n",
            "\u001b[0m{\n",
            "  \"output\": \"Yeah, this product is definitely a total piece of crap. It's like they designed it specifically to make you feel like a complete idiot.\"\n",
            "}\n",
            "\u001b[36;1m\u001b[1;3m[chain/end]\u001b[0m \u001b[1m[1:chain:RunnableSequence > 2:chain:RunnableParallel<comment_to_moderate>] [831ms] Exiting Chain run with output:\n",
            "\u001b[0m{\n",
            "  \"comment_to_moderate\": \"Yeah, this product is definitely a total piece of crap. It's like they designed it specifically to make you feel like a complete idiot.\"\n",
            "}\n",
            "\u001b[32;1m\u001b[1;3m[chain/start]\u001b[0m \u001b[1m[1:chain:RunnableSequence > 7:prompt:PromptTemplate] Entering Prompt run with input:\n",
            "\u001b[0m{\n",
            "  \"comment_to_moderate\": \"Yeah, this product is definitely a total piece of crap. It's like they designed it specifically to make you feel like a complete idiot.\"\n",
            "}\n",
            "\u001b[36;1m\u001b[1;3m[chain/end]\u001b[0m \u001b[1m[1:chain:RunnableSequence > 7:prompt:PromptTemplate] [0ms] Exiting Prompt run with output:\n",
            "\u001b[0m{\n",
            "  \"lc\": 1,\n",
            "  \"type\": \"constructor\",\n",
            "  \"id\": [\n",
            "    \"langchain\",\n",
            "    \"prompts\",\n",
            "    \"base\",\n",
            "    \"StringPromptValue\"\n",
            "  ],\n",
            "  \"kwargs\": {\n",
            "    \"text\": \"\\nYou are the moderator of an online forum, you are strict and will not tolerate any negative comments.\\nYou will receive a Original comment and if it is impolite you must transform in polite.\\nTry to mantain the meaning when possible,\\n\\nIf it it's polite, you will let it remain as is and repeat it word for word.\\nOriginal comment: Yeah, this product is definitely a total piece of crap. It's like they designed it specifically to make you feel like a complete idiot.\\n\"\n",
            "  }\n",
            "}\n",
            "\u001b[32;1m\u001b[1;3m[llm/start]\u001b[0m \u001b[1m[1:chain:RunnableSequence > 8:llm:ChatOpenAI] Entering LLM run with input:\n",
            "\u001b[0m{\n",
            "  \"prompts\": [\n",
            "    \"Human: \\nYou are the moderator of an online forum, you are strict and will not tolerate any negative comments.\\nYou will receive a Original comment and if it is impolite you must transform in polite.\\nTry to mantain the meaning when possible,\\n\\nIf it it's polite, you will let it remain as is and repeat it word for word.\\nOriginal comment: Yeah, this product is definitely a total piece of crap. It's like they designed it specifically to make you feel like a complete idiot.\"\n",
            "  ]\n",
            "}\n",
            "\u001b[36;1m\u001b[1;3m[llm/end]\u001b[0m \u001b[1m[1:chain:RunnableSequence > 8:llm:ChatOpenAI] [4.34s] Exiting LLM run with output:\n",
            "\u001b[0m{\n",
            "  \"generations\": [\n",
            "    [\n",
            "      {\n",
            "        \"text\": \"Polite version: Indeed, this product may not meet everyone's expectations. It seems as though it was designed in such a way that could potentially confuse some users.\",\n",
            "        \"generation_info\": {\n",
            "          \"finish_reason\": \"stop\",\n",
            "          \"logprobs\": null\n",
            "        },\n",
            "        \"type\": \"ChatGeneration\",\n",
            "        \"message\": {\n",
            "          \"lc\": 1,\n",
            "          \"type\": \"constructor\",\n",
            "          \"id\": [\n",
            "            \"langchain\",\n",
            "            \"schema\",\n",
            "            \"messages\",\n",
            "            \"AIMessage\"\n",
            "          ],\n",
            "          \"kwargs\": {\n",
            "            \"content\": \"Polite version: Indeed, this product may not meet everyone's expectations. It seems as though it was designed in such a way that could potentially confuse some users.\",\n",
            "            \"additional_kwargs\": {}\n",
            "          }\n",
            "        }\n",
            "      }\n",
            "    ]\n",
            "  ],\n",
            "  \"llm_output\": {\n",
            "    \"token_usage\": {\n",
            "      \"completion_tokens\": 33,\n",
            "      \"prompt_tokens\": 107,\n",
            "      \"total_tokens\": 140\n",
            "    },\n",
            "    \"model_name\": \"gpt-4\",\n",
            "    \"system_fingerprint\": null\n",
            "  },\n",
            "  \"run\": null\n",
            "}\n",
            "\u001b[32;1m\u001b[1;3m[chain/start]\u001b[0m \u001b[1m[1:chain:RunnableSequence > 9:parser:StrOutputParser] Entering Parser run with input:\n",
            "\u001b[0m[inputs]\n",
            "\u001b[36;1m\u001b[1;3m[chain/end]\u001b[0m \u001b[1m[1:chain:RunnableSequence > 9:parser:StrOutputParser] [0ms] Exiting Parser run with output:\n",
            "\u001b[0m{\n",
            "  \"output\": \"Polite version: Indeed, this product may not meet everyone's expectations. It seems as though it was designed in such a way that could potentially confuse some users.\"\n",
            "}\n",
            "\u001b[36;1m\u001b[1;3m[chain/end]\u001b[0m \u001b[1m[1:chain:RunnableSequence] [5.17s] Exiting Chain run with output:\n",
            "\u001b[0m{\n",
            "  \"output\": \"Polite version: Indeed, this product may not meet everyone's expectations. It seems as though it was designed in such a way that could potentially confuse some users.\"\n",
            "}\n"
          ]
        },
        {
          "output_type": "execute_result",
          "data": {
            "text/plain": [
              "\"Polite version: Indeed, this product may not meet everyone's expectations. It seems as though it was designed in such a way that could potentially confuse some users.\""
            ],
            "application/vnd.google.colaboratory.intrinsic+json": {
              "type": "string"
            }
          },
          "metadata": {},
          "execution_count": 27
        }
      ],
      "source": [
        "# We can now run the chain.\n",
        "from langchain.callbacks.tracers import ConsoleCallbackHandler\n",
        "assistant_moderated_chain.invoke({\"sentiment\": \"impolite\", \"customer_request\": customer_request},\n",
        "                                 config={'callbacks':[ConsoleCallbackHandler()]})"
      ]
    },
    {
      "cell_type": "markdown",
      "source": [
        "Every time you execute this function you can get different messages, but for sure than the one in the ***Finished Chain*** generated by our ***moderator*** is more suitable than the one in Original Comment generated by our ***rude assistant***."
      ],
      "metadata": {
        "id": "mBJ-J3wN-hNh"
      },
      "id": "mBJ-J3wN-hNh"
    },
    {
      "cell_type": "code",
      "execution_count": null,
      "id": "3bf75f01",
      "metadata": {
        "id": "3bf75f01"
      },
      "outputs": [],
      "source": []
    }
  ],
  "metadata": {
    "kernelspec": {
      "display_name": "Python 3 (ipykernel)",
      "language": "python",
      "name": "python3"
    },
    "language_info": {
      "codemirror_mode": {
        "name": "ipython",
        "version": 3
      },
      "file_extension": ".py",
      "mimetype": "text/x-python",
      "name": "python",
      "nbconvert_exporter": "python",
      "pygments_lexer": "ipython3",
      "version": "3.11.4"
    },
    "colab": {
      "provenance": [],
      "include_colab_link": true
    }
  },
  "nbformat": 4,
  "nbformat_minor": 5
}